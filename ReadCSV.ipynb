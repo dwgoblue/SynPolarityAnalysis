{
 "cells": [
  {
   "cell_type": "code",
   "execution_count": 2,
   "metadata": {},
   "outputs": [],
   "source": [
    "import pandas as pd\n",
    "import matplotlib.pyplot as plt\n",
    "import matplotlib\n",
    "import numpy as np\n",
    "import matplotlib.colors as colors\n",
    "import matplotlib.cm as cm\n",
    "import scipy\n",
    "import matplotlib.ticker as ticker\n",
    "from scipy import linalg\n",
    "from sklearn import preprocessing"
   ]
  },
  {
   "cell_type": "code",
   "execution_count": 3,
   "metadata": {},
   "outputs": [],
   "source": [
    "def CanvasStyle(ax, x_min=0, y_min=0):\n",
    "    ax.patch.set_facecolor('white')\n",
    "    plt.grid('off')\n",
    "    plt.tight_layout()\n",
    "    ax.spines['right'].set_visible(False)\n",
    "    ax.spines['top'].set_visible(False)\n",
    "    ax.yaxis.set_ticks_position('left')\n",
    "    ax.xaxis.set_ticks_position('bottom')\n",
    "    ax.axhline(linewidth=3, y=y_min, color='k')\n",
    "    ax.axvline(linewidth=3, x=x_min, color='k')\n",
    "    ax.yaxis.set_tick_params(width=2)\n",
    "    ax.xaxis.set_tick_params(width=2)\n",
    "    return ax"
   ]
  },
  {
   "cell_type": "code",
   "execution_count": 4,
   "metadata": {},
   "outputs": [],
   "source": [
    "plt.rcParams['font.weight'] = 'normal'#'bold'\n",
    "plt.rcParams['font.size'] = 12\n",
    "plt.rcParams['font.family'] = 'sans-serif'\n",
    "plt.rcParams['axes.labelsize'] = 14\n",
    "matplotlib.rcParams['pdf.fonttype'] = 42\n",
    "matplotlib.rcParams['ps.fonttype'] = 42\n",
    "plt.style.use('seaborn-ticks')\n",
    "errbarattr = {'lw':3,\n",
    "              'capthick':3,\n",
    "              'capsize':10,\n",
    "              'ecolor':'black'\n",
    "             }"
   ]
  },
  {
   "cell_type": "code",
   "execution_count": 8,
   "metadata": {},
   "outputs": [],
   "source": [
    "IO = r'/work/r04b43015/ImgData/pBAD_HalfLife.xlsx'\n",
    "sheet = pd.read_excel(io=IO)\n",
    "df = pd.DataFrame(sheet)\n",
    "df = df.fillna(0)\n",
    "x = df.values #returns a numpy array\n",
    "min_max_scaler = preprocessing.MinMaxScaler()\n",
    "x_scaled = min_max_scaler.fit_transform(x)\n",
    "df = pd.DataFrame(x_scaled)\n",
    "avg = df.mean(axis=1)\n",
    "std = df.std(axis=1)\n",
    "\n",
    "fig = plt.figure(figsize=(8, 5))\n",
    "ax = fig.add_subplot(111)\n",
    "\n",
    "norm = np.max(avg.iloc[:])\n",
    "# Draw the plot.\n",
    "ax.plot(5*avg.iloc[:].index, avg.iloc[:]/norm, 'tomato', label='Half life', linewidth=3)\n",
    "# Draw the error bar with a filled region.\n",
    "ax.fill_between(5*avg.iloc[:].index,\n",
    "                (avg.iloc[:]-std.iloc[:])/norm,\n",
    "                (avg.iloc[:]+std.iloc[:])/norm,\n",
    "                alpha=0.2,\n",
    "                facecolor='tomato',\n",
    "                edgecolor='tomato',\n",
    "                linewidth=0.0)\n",
    "CanvasStyle(ax, x_min=0, y_min=-0.2)\n",
    "ax.set_xlabel('Time (minutes)')\n",
    "ax.set_ylabel('Normalized Fluorescence Intensity')\n",
    "ax.set_xlim([0, max(5*avg.iloc[:].index)])\n",
    "ax.legend()\n",
    "prefix = r'/work/r04b43015/ImgData'\n",
    "plt.savefig('{0}/PopZHalfLife_line.ps'.format(prefix), format='ps')\n",
    "plt.savefig('{0}/PopZHalfLife_line.pdf'.format(prefix), format='pdf')\n",
    "plt.show()"
   ]
  },
  {
   "cell_type": "code",
   "execution_count": 10,
   "metadata": {},
   "outputs": [
    {
     "name": "stdout",
     "output_type": "stream",
     "text": [
      "          0         1         2         3         4         5         6   \\\n",
      "0   0.947800  0.731473  0.913773  0.873223  1.000000  0.998603  1.000000   \n",
      "1   0.855995  1.000000  1.000000  1.000000  0.825425  0.784881  0.901230   \n",
      "2   0.478612  0.599831  0.772733  0.633852  0.340343  0.829041  0.839455   \n",
      "3   0.612212  0.673963  0.907995  0.481534  0.341418  0.664080  0.649106   \n",
      "4   1.000000  0.207352  0.179124  0.264339  0.222337  0.404309  0.259510   \n",
      "5   0.880967  0.291087  0.162353  0.209959  0.238547  0.377546  0.278101   \n",
      "6   0.458471  0.139361  0.051936  0.122344  0.171439  0.247103  0.145113   \n",
      "7   0.494234  0.158041  0.080328  0.161549  0.136352  0.240857  0.186600   \n",
      "8   0.691296  0.972865  0.563135  0.279672  0.307924  0.302260  0.319520   \n",
      "9   0.667484  0.841629  0.807338  0.190344  0.325583  0.245287  0.168012   \n",
      "10  0.439300  0.694557  0.344523  0.132787  0.107000  0.187816  0.098660   \n",
      "11  0.443601  0.707519  0.322310  0.134331  0.087515  0.182779  0.117113   \n",
      "12  0.830518  0.486716  0.238481  0.726116  0.558417  1.000000  0.779612   \n",
      "13  0.979407  0.570532  0.336446  0.763030  0.296283  0.893215  0.739647   \n",
      "14  0.901218  0.278355  0.139535  0.196539  0.079640  0.281776  0.177690   \n",
      "15  0.665382  0.241045  0.094225  0.179464  0.034654  0.258865  0.134913   \n",
      "16  0.644248  0.174955  0.104039  0.167926  0.026859  0.269456  0.218283   \n",
      "17  0.395610  0.108579  0.105049  0.098149  0.041973  0.147340  0.144213   \n",
      "18  0.481649  0.205440  0.110484  0.117643  0.028957  0.185307  0.130705   \n",
      "19  0.311350  0.111379  0.055183  0.067325  0.039104  0.133815  0.069387   \n",
      "20  0.332339  0.090169  0.039476  0.085621  0.021861  0.140127  0.081277   \n",
      "21  0.216958  0.079021  0.034022  0.037562  0.008945  0.100834  0.058717   \n",
      "22  0.235593  0.096820  0.022941  0.069818  0.016325  0.113314  0.056119   \n",
      "23  0.137413  0.058278  0.014579  0.025631  0.010171  0.063476  0.033848   \n",
      "24  0.155605  0.053917  0.024454  0.065387  0.006218  0.072124  0.033661   \n",
      "25  0.083591  0.039670  0.012139  0.037256  0.007295  0.039881  0.027307   \n",
      "26  0.105000  0.048998  0.012788  0.046098  0.005176  0.049827  0.021520   \n",
      "27  0.066965  0.034383  0.010407  0.029474  0.007360  0.031202  0.020267   \n",
      "28  0.064833  0.020615  0.011354  0.031483  0.004619  0.042312  0.010856   \n",
      "29  0.043145  0.017454  0.010946  0.020691  0.002610  0.024393  0.013469   \n",
      "30  0.035012  0.018685  0.006028  0.024913  0.002702  0.016734  0.010699   \n",
      "31  0.026933  0.015686  0.009441  0.018879  0.004216  0.018498  0.014836   \n",
      "32  0.025890  0.012066  0.005737  0.012337  0.002430  0.020563  0.007203   \n",
      "33  0.017172  0.011878  0.003756  0.016098  0.003396  0.014717  0.003398   \n",
      "34  0.001157  0.005936  0.010015  0.004849  0.002439  0.004826  0.000000   \n",
      "35  0.013540  0.008960  0.007604  0.009733  0.003271  0.004567  0.001052   \n",
      "36  0.008325  0.001734  0.003986  0.005378  0.001988  0.005272  0.000647   \n",
      "37  0.003721  0.000725  0.003626  0.003080  0.000679  0.002497  0.000300   \n",
      "38  0.006680  0.004088  0.001899  0.006068  0.002247  0.000911  0.002021   \n",
      "39  0.005001  0.002124  0.001793  0.004893  0.001482  0.000000  0.001350   \n",
      "40  0.001987  0.004227  0.001764  0.003687  0.001278  0.003688  0.002902   \n",
      "41  0.000000  0.000000  0.000000  0.000000  0.000000  0.001899  0.002211   \n",
      "\n",
      "          7             8         9         10        11        12        13  \\\n",
      "0   0.799602  1.000000e+00  0.808258  0.694229  0.500640  0.862008  0.776183   \n",
      "1   1.000000  8.687324e-01  1.000000  1.000000  1.000000  0.446559  0.358937   \n",
      "2   0.667714  9.007082e-01  0.852858  0.718676  0.397052  0.555896  0.471554   \n",
      "3   0.525159  7.836193e-01  0.563344  0.683757  0.434128  0.944982  1.000000   \n",
      "4   0.240169  2.238977e-01  0.683850  0.776883  0.563103  1.000000  0.979835   \n",
      "5   0.222814  2.662777e-01  0.927711  0.872795  0.610000  0.543361  0.539229   \n",
      "6   0.150992  1.154863e-01  0.603252  0.558437  0.232516  0.449402  0.741058   \n",
      "7   0.151132  1.248640e-01  0.562697  0.531433  0.340998  0.631631  0.662299   \n",
      "8   0.330525  3.276324e-01  0.630549  0.540058  0.527562  0.591607  0.662238   \n",
      "9   0.240130  1.514861e-01  0.541443  0.502375  0.342003  0.366817  0.329601   \n",
      "10  0.197458  8.989656e-02  0.376202  0.249785  0.218553  0.449655  0.449934   \n",
      "11  0.178740  1.069161e-01  0.311717  0.239533  0.167107  0.843700  0.937262   \n",
      "12  0.577129  4.219463e-01  0.230255  0.143321  0.109238  0.689346  0.941024   \n",
      "13  0.372939  4.296787e-01  0.212900  0.140929  0.060089  0.640047  0.767301   \n",
      "14  0.256994  1.173748e-01  0.322096  0.395123  0.096165  0.388279  0.426839   \n",
      "15  0.231560  1.334537e-01  0.239930  0.251719  0.104041  0.410137  0.442208   \n",
      "16  0.233421  1.582488e-01  0.349695  0.171721  0.235648  0.286922  0.285666   \n",
      "17  0.155353  1.161199e-01  0.252489  0.158337  0.100675  0.260638  0.316869   \n",
      "18  0.203818  1.134317e-01  0.261929  0.239631  0.128188  0.183641  0.224197   \n",
      "19  0.134950  5.906596e-02  0.191798  0.158563  0.081853  0.182730  0.221300   \n",
      "20  0.160159  6.159756e-02  0.225980  0.152268  0.033662  0.127446  0.140582   \n",
      "21  0.090481  5.368637e-02  0.163184  0.112439  0.026955  0.130777  0.161564   \n",
      "22  0.083018  4.702104e-02  0.161535  0.106884  0.030220  0.090518  0.105536   \n",
      "23  0.064259  2.662491e-02  0.092482  0.078474  0.019748  0.096340  0.118389   \n",
      "24  0.072006  3.786208e-02  0.114473  0.095788  0.032820  0.072765  0.077064   \n",
      "25  0.043189  3.634322e-02  0.075935  0.059768  0.026166  0.091222  0.084301   \n",
      "26  0.052459  2.880633e-02  0.086854  0.072258  0.013901  0.071743  0.071914   \n",
      "27  0.032010  1.861086e-02  0.057257  0.048267  0.012778  0.060981  0.067850   \n",
      "28  0.030963  2.122815e-02  0.055733  0.042165  0.008023  0.054417  0.059268   \n",
      "29  0.025385  1.205428e-02  0.043004  0.033025  0.008453  0.042232  0.047061   \n",
      "30  0.032814  1.791136e-02  0.038528  0.036488  0.008612  0.047715  0.037037   \n",
      "31  0.011254  9.789430e-03  0.030459  0.023498  0.005387  0.031572  0.041983   \n",
      "32  0.013785  8.305085e-03  0.024848  0.013750  0.004209  0.034562  0.038735   \n",
      "33  0.009164  6.808078e-03  0.018112  0.019688  0.005931  0.022543  0.025036   \n",
      "34  0.005933  5.308816e-03  0.006760  0.003944  0.005590  0.011452  0.030962   \n",
      "35  0.006437  5.036333e-03  0.012938  0.018781  0.004364  0.014577  0.032288   \n",
      "36  0.004288  6.362497e-03  0.006259  0.009606  0.003557  0.003198  0.033419   \n",
      "37  0.000000  1.237186e-03  0.008211  0.005134  0.000867  0.000000  0.016550   \n",
      "38  0.005726  2.578092e-03  0.009041  0.009911  0.001502  0.022181  0.003736   \n",
      "39  0.002358  5.203361e-07  0.000603  0.003389  0.000000  0.013639  0.022889   \n",
      "40  0.003924  1.109183e-03  0.000000  0.001995  0.003398  0.016680  0.007676   \n",
      "41  0.005035  0.000000e+00  0.000222  0.000000  0.004055  0.020221  0.000000   \n",
      "\n",
      "     14  \n",
      "0   0.0  \n",
      "1   0.0  \n",
      "2   0.0  \n",
      "3   0.0  \n",
      "4   0.0  \n",
      "5   0.0  \n",
      "6   0.0  \n",
      "7   0.0  \n",
      "8   0.0  \n",
      "9   0.0  \n",
      "10  0.0  \n",
      "11  0.0  \n",
      "12  0.0  \n",
      "13  0.0  \n",
      "14  0.0  \n",
      "15  0.0  \n",
      "16  0.0  \n",
      "17  0.0  \n",
      "18  0.0  \n",
      "19  0.0  \n",
      "20  0.0  \n",
      "21  0.0  \n",
      "22  0.0  \n",
      "23  0.0  \n",
      "24  0.0  \n",
      "25  0.0  \n",
      "26  0.0  \n",
      "27  0.0  \n",
      "28  0.0  \n",
      "29  0.0  \n",
      "30  0.0  \n",
      "31  0.0  \n",
      "32  0.0  \n",
      "33  0.0  \n",
      "34  0.0  \n",
      "35  0.0  \n",
      "36  0.0  \n",
      "37  0.0  \n",
      "38  0.0  \n",
      "39  0.0  \n",
      "40  0.0  \n",
      "41  0.0  \n"
     ]
    }
   ],
   "source": [
    "print(df)"
   ]
  },
  {
   "cell_type": "code",
   "execution_count": 8,
   "metadata": {},
   "outputs": [
    {
     "name": "stdout",
     "output_type": "stream",
     "text": [
      "RangeIndex(start=0, stop=210, step=5)\n",
      "[-0.02825031  0.33869401]\n",
      "[[-0.33869401]\n",
      " [-0.02825031]]\n"
     ]
    },
    {
     "name": "stderr",
     "output_type": "stream",
     "text": [
      "/work/r04b43015/anaconda3/lib/python3.5/site-packages/matplotlib/cbook.py:2644: UserWarning: Saw kwargs ['mew', 'markeredgewidth'] which are all aliases for 'markeredgewidth'.  Kept value from 'markeredgewidth'\n",
      "  seen=seen, canon=canonical, used=seen[-1]))\n"
     ]
    },
    {
     "name": "stdout",
     "output_type": "stream",
     "text": [
      "save\n"
     ]
    },
    {
     "data": {
      "image/png": "[encoded data removed]",
      "text/plain": [
       "<matplotlib.figure.Figure at 0x7f3e201a7b38>"
      ]
     },
     "metadata": {},
     "output_type": "display_data"
    }
   ],
   "source": [
    "IO = r'/work/r04b43015/ImgData/pBAD_HalfLife.xlsx'\n",
    "sheet = pd.read_excel(io=IO)\n",
    "df = pd.DataFrame(sheet)\n",
    "del df[14]\n",
    "df = df.fillna(0)\n",
    "x = df.values #returns a numpy array\n",
    "min_max_scaler = preprocessing.MinMaxScaler()\n",
    "x_scaled = min_max_scaler.fit_transform(x)\n",
    "df = pd.DataFrame(x_scaled)\n",
    "\n",
    "avg = df.mean(axis=1)\n",
    "std = df.std(axis=1)\n",
    "print(5*avg.iloc[:45].index)\n",
    "fig = plt.figure(figsize=(8, 5))\n",
    "ax = fig.add_subplot(111)\n",
    "# Draw the plot.\n",
    "# ax.scatter(avg.iloc[:45].index, avg.iloc[:45],\n",
    "#             facecolor='k', edgecolor='k', s=35)\n",
    "#ax.plot(avg.iloc[:45], 'tomato', label='Half life', linestyle='', linewidth=3)\n",
    "# Fitting the curve by least-square method.\n",
    "c = np.polyfit(5*avg.iloc[:45].index, np.log(avg.iloc[:45]), 1)\n",
    "print(c)\n",
    "func = lambda t: np.exp(t*c[0]+c[1])\n",
    "\n",
    "\n",
    "b = np.ones((len(avg.iloc[:45].index), 1))\n",
    "b[:, 0] = np.log(avg.iloc[:45])\n",
    "A = np.ones((len(avg.iloc[:45].index), 2))\n",
    "A[:, 0] = -1\n",
    "A[:, 1] = 5*avg.iloc[:45].index\n",
    "Transition = np.dot(np.transpose(A), A)\n",
    "ATb = np.dot(np.transpose(A), b)\n",
    "c_new = np.dot(linalg.inv(Transition), ATb)\n",
    "print(c_new)\n",
    "\n",
    "\n",
    "ax.errorbar(5*avg.iloc[:45].index, avg.iloc[:45], yerr=std,\n",
    "            marker='o', ecolor='k', \n",
    "            mfc='k', ms=10, mec='w', mew=2,  \n",
    "            ls='', elinewidth=2, capthick=2, capsize=8)\n",
    "\n",
    "p_res = np.poly1d(np.polyfit(5*avg.iloc[:45].index, avg.iloc[:45], 3))\n",
    "# ax.plot(5*avg.iloc[:45].index, p_res(5*avg.iloc[:45].index),\n",
    "#         linewidth=3, color='steelblue', label='Least-square order=3')\n",
    "ax.plot(5*avg.iloc[:45].index, func(5*avg.iloc[:45].index),\n",
    "        linewidth=4, color='tomato', label='Regression')\n",
    "\n",
    "\n",
    "y_min, _ = ax.get_ylim()\n",
    "x_min, _ = ax.get_xlim()\n",
    "ax = CanvasStyle(ax, x_min=x_min, y_min=y_min)\n",
    "ax.set_xlabel('Time (minutes)')\n",
    "ax.set_ylabel('Normalized Fluorescence Intensity')\n",
    "ax.set_xlim([0, 210])\n",
    "ax.legend()\n",
    "prefix = r'/work/r04b43015/ImgData'\n",
    "plt.savefig('{0}/FocusHalfLife.ps'.format(prefix), format='ps')\n",
    "plt.savefig('{0}/FocusHalfLife.pdf'.format(prefix), format='pdf')\n",
    "print('save')\n",
    "plt.show()"
   ]
  },
  {
   "cell_type": "code",
   "execution_count": 6,
   "metadata": {},
   "outputs": [
    {
     "name": "stdout",
     "output_type": "stream",
     "text": [
      "1.40311394068\n"
     ]
    },
    {
     "data": {
      "image/png": "[encoded data removed]",
      "text/plain": [
       "<matplotlib.figure.Figure at 0x7f778c4a31d0>"
      ]
     },
     "metadata": {},
     "output_type": "display_data"
    }
   ],
   "source": [
    "exp_func = lambda t: np.exp(-0.02825031*t+0.33869401)\n",
    "print(np.exp(0.33869401))\n",
    "plt.plot(np.arange(200), exp_func(np.arange(200)))\n",
    "plt.show()"
   ]
  },
  {
   "cell_type": "code",
   "execution_count": 3,
   "metadata": {},
   "outputs": [],
   "source": [
    "col = ['profiles', 'PS', 'PUL', 'Pearson']\n",
    "groups = ['116', '117', '100']\n",
    "supgroups = ['CH1', 'CH2']\n",
    "ID_num = [5, 6, 3]\n",
    "\n",
    "arrays = [[groups[0] for _ in range(ID_num[0]+1)]+[groups[0] for _ in range(ID_num[0]+1)],\n",
    "          [supgroups[0] for _ in range(ID_num[0]+1)]+[supgroups[1] for _ in range(ID_num[0]+1)],\n",
    "          [i for i in np.arange(ID_num[0])]+['mean']+[i for i in np.arange(ID_num[0])]+['mean']]\n",
    "index = pd.MultiIndex.from_product(arrays, names=['Names', 'Ch', 'ID'])\n",
    "df1 = pd.DataFrame(columns=col, index=arrays)\n",
    "\n",
    "\n",
    "arrays = [[groups[1] for _ in range(ID_num[1]+1)]+[groups[1] for _ in range(ID_num[1]+1)],\n",
    "          [supgroups[0] for _ in range(ID_num[1]+1)]+[supgroups[1] for _ in range(ID_num[1]+1)],\n",
    "          [i for i in np.arange(ID_num[1])]+['mean']+[i for i in np.arange(ID_num[1])]+['mean']]\n",
    "index = pd.MultiIndex.from_product(arrays, names=['Names', 'Ch', 'ID'])\n",
    "df2 = pd.DataFrame(columns=col, index=arrays)\n",
    "\n",
    "arrays = [[groups[2] for _ in range(ID_num[2]+1)]+[groups[2] for _ in range(ID_num[2]+1)],\n",
    "          [supgroups[0] for _ in range(ID_num[2]+1)]+[supgroups[1] for _ in range(ID_num[2]+1)],\n",
    "          [i for i in np.arange(ID_num[2])]+['mean']+[i for i in np.arange(ID_num[2])]+['mean']]\n",
    "index = pd.MultiIndex.from_product(arrays, names=['Names', 'Ch', 'ID'])\n",
    "df3 = pd.DataFrame(columns=col, index=arrays)\n",
    "\n",
    "# print(index)\n",
    "df1\n",
    "fdf = pd.concat([df1, df2, df3])"
   ]
  },
  {
   "cell_type": "code",
   "execution_count": 4,
   "metadata": {},
   "outputs": [
    {
     "data": {
      "text/plain": [
       "array(['100', '116', '117'], \n",
       "      dtype='<U3')"
      ]
     },
     "execution_count": 4,
     "metadata": {},
     "output_type": "execute_result"
    }
   ],
   "source": [
    "np.unique([ele[0] for ele in fdf.index.values])"
   ]
  },
  {
   "cell_type": "code",
   "execution_count": 1,
   "metadata": {},
   "outputs": [
    {
     "ename": "NameError",
     "evalue": "name 'fdf' is not defined",
     "output_type": "error",
     "traceback": [
      "\u001b[0;31m---------------------------------------------------------------------------\u001b[0m",
      "\u001b[0;31mNameError\u001b[0m                                 Traceback (most recent call last)",
      "\u001b[0;32m<ipython-input-1-6121abffa681>\u001b[0m in \u001b[0;36m<module>\u001b[0;34m()\u001b[0m\n\u001b[0;32m----> 1\u001b[0;31m \u001b[0mfdf\u001b[0m\u001b[0;34m.\u001b[0m\u001b[0mloc\u001b[0m\u001b[0;34m[\u001b[0m\u001b[0;34m'117'\u001b[0m\u001b[0;34m]\u001b[0m\u001b[0;34m.\u001b[0m\u001b[0mloc\u001b[0m\u001b[0;34m[\u001b[0m\u001b[0;34m'CH1'\u001b[0m\u001b[0;34m]\u001b[0m\u001b[0;34m.\u001b[0m\u001b[0mloc\u001b[0m\u001b[0;34m[\u001b[0m\u001b[0;36m0\u001b[0m\u001b[0;34m,\u001b[0m \u001b[0;34m'profiles'\u001b[0m\u001b[0;34m]\u001b[0m\u001b[0;34m\u001b[0m\u001b[0m\n\u001b[0m\u001b[1;32m      2\u001b[0m \u001b[0mdf3\u001b[0m\u001b[0;34m.\u001b[0m\u001b[0mset_value\u001b[0m\u001b[0;34m(\u001b[0m\u001b[0;34m(\u001b[0m\u001b[0;34m'100'\u001b[0m\u001b[0;34m,\u001b[0m \u001b[0;34m'CH1'\u001b[0m\u001b[0;34m,\u001b[0m \u001b[0;36m0\u001b[0m\u001b[0;34m)\u001b[0m\u001b[0;34m,\u001b[0m \u001b[0;34m'PS'\u001b[0m\u001b[0;34m,\u001b[0m \u001b[0mnp\u001b[0m\u001b[0;34m.\u001b[0m\u001b[0marray\u001b[0m\u001b[0;34m(\u001b[0m\u001b[0;34m[\u001b[0m\u001b[0;36m1\u001b[0m\u001b[0;34m,\u001b[0m\u001b[0;36m2\u001b[0m\u001b[0;34m,\u001b[0m\u001b[0;36m3\u001b[0m\u001b[0;34m]\u001b[0m\u001b[0;34m)\u001b[0m\u001b[0;34m)\u001b[0m\u001b[0;34m\u001b[0m\u001b[0m\n\u001b[1;32m      3\u001b[0m \u001b[0mdf3\u001b[0m\u001b[0;34m.\u001b[0m\u001b[0mset_value\u001b[0m\u001b[0;34m(\u001b[0m\u001b[0;34m(\u001b[0m\u001b[0;34m'100'\u001b[0m\u001b[0;34m,\u001b[0m \u001b[0;34m'CH1'\u001b[0m\u001b[0;34m,\u001b[0m \u001b[0;36m1\u001b[0m\u001b[0;34m)\u001b[0m\u001b[0;34m,\u001b[0m \u001b[0;34m'PS'\u001b[0m\u001b[0;34m,\u001b[0m \u001b[0mnp\u001b[0m\u001b[0;34m.\u001b[0m\u001b[0marray\u001b[0m\u001b[0;34m(\u001b[0m\u001b[0;34m[\u001b[0m\u001b[0;36m1\u001b[0m\u001b[0;34m,\u001b[0m\u001b[0;36m8\u001b[0m\u001b[0;34m,\u001b[0m\u001b[0;36m4\u001b[0m\u001b[0;34m]\u001b[0m\u001b[0;34m)\u001b[0m\u001b[0;34m)\u001b[0m\u001b[0;34m\u001b[0m\u001b[0m\n\u001b[1;32m      4\u001b[0m \u001b[0mdf3\u001b[0m\u001b[0;34m.\u001b[0m\u001b[0mset_value\u001b[0m\u001b[0;34m(\u001b[0m\u001b[0;34m(\u001b[0m\u001b[0;34m'100'\u001b[0m\u001b[0;34m,\u001b[0m \u001b[0;34m'CH1'\u001b[0m\u001b[0;34m,\u001b[0m \u001b[0;36m2\u001b[0m\u001b[0;34m)\u001b[0m\u001b[0;34m,\u001b[0m \u001b[0;34m'PS'\u001b[0m\u001b[0;34m,\u001b[0m \u001b[0mnp\u001b[0m\u001b[0;34m.\u001b[0m\u001b[0marray\u001b[0m\u001b[0;34m(\u001b[0m\u001b[0;34m[\u001b[0m\u001b[0;36m7\u001b[0m\u001b[0;34m,\u001b[0m\u001b[0;36m2\u001b[0m\u001b[0;34m,\u001b[0m\u001b[0;36m0\u001b[0m\u001b[0;34m]\u001b[0m\u001b[0;34m)\u001b[0m\u001b[0;34m)\u001b[0m\u001b[0;34m\u001b[0m\u001b[0m\n\u001b[1;32m      5\u001b[0m \u001b[0mprint\u001b[0m\u001b[0;34m(\u001b[0m\u001b[0mdf3\u001b[0m\u001b[0;34m.\u001b[0m\u001b[0mloc\u001b[0m\u001b[0;34m[\u001b[0m\u001b[0;34m'100'\u001b[0m\u001b[0;34m]\u001b[0m\u001b[0;34m.\u001b[0m\u001b[0mloc\u001b[0m\u001b[0;34m[\u001b[0m\u001b[0;34m'CH1'\u001b[0m\u001b[0;34m]\u001b[0m\u001b[0;34m.\u001b[0m\u001b[0mloc\u001b[0m\u001b[0;34m[\u001b[0m\u001b[0;34m:\u001b[0m\u001b[0;34m,\u001b[0m\u001b[0;34m'PS'\u001b[0m\u001b[0;34m]\u001b[0m\u001b[0;34m[\u001b[0m\u001b[0;34m:\u001b[0m\u001b[0;34m-\u001b[0m\u001b[0;36m1\u001b[0m\u001b[0;34m]\u001b[0m\u001b[0;34m.\u001b[0m\u001b[0mget_values\u001b[0m\u001b[0;34m(\u001b[0m\u001b[0;34m)\u001b[0m\u001b[0;34m.\u001b[0m\u001b[0mstd\u001b[0m\u001b[0;34m(\u001b[0m\u001b[0;34m)\u001b[0m\u001b[0;34m)\u001b[0m\u001b[0;34m\u001b[0m\u001b[0m\n",
      "\u001b[0;31mNameError\u001b[0m: name 'fdf' is not defined"
     ]
    }
   ],
   "source": [
    "fdf.loc['117'].loc['CH1'].loc[0, 'profiles']\n",
    "df3.set_value(('100', 'CH1', 0), 'PS', np.array([1,2,3]))\n",
    "df3.set_value(('100', 'CH1', 1), 'PS', np.array([1,8,4]))\n",
    "df3.set_value(('100', 'CH1', 2), 'PS', np.array([7,2,0]))\n",
    "print(df3.loc['100'].loc['CH1'].loc[:,'PS'][:-1].get_values().std())\n",
    "df1.set_value(('116', 'CH1', 'mean'), 'PS', np.array([7,2,0]))\n",
    "df2.set_value(('117', 'CH1', 'mean'), 'PS', np.array([8,2,5]))\n",
    "df3.set_value(('100', 'CH1', 'mean'), 'PS', df3.loc['100'].loc['CH1'].loc[:, 'PS'][:-1].get_values().std())\n",
    "print(df3.iloc[:])\n",
    "fdf = pd.concat([df1, df2, df3])\n",
    "print(df3.loc['100'].loc['CH1'].loc[:,'PS'][:-1].get_values())\n",
    "arrs = [arr for arr in df3.loc['100'].loc['CH1'].loc[:,'PS'][:-1].get_values()]\n",
    "maxs = max([arr.max() for arr in df3.loc['100'].loc['CH1'].loc[:,'PS'][:-1].get_values()])\n",
    "\n",
    "plt.show()"
   ]
  },
  {
   "cell_type": "code",
   "execution_count": 32,
   "metadata": {},
   "outputs": [
    {
     "ename": "KeyError",
     "evalue": "\"the label [['116', '117', '100']] is not in the [index]\"",
     "output_type": "error",
     "traceback": [
      "\u001b[0;31m---------------------------------------------------------------------------\u001b[0m",
      "\u001b[0;31mKeyError\u001b[0m                                  Traceback (most recent call last)",
      "\u001b[0;32m/work/r04b43015/anaconda3/lib/python3.5/site-packages/pandas/core/indexing.py\u001b[0m in \u001b[0;36m_has_valid_type\u001b[0;34m(self, key, axis)\u001b[0m\n\u001b[1;32m   1394\u001b[0m                 \u001b[0;32mif\u001b[0m \u001b[0mkey\u001b[0m \u001b[0;32mnot\u001b[0m \u001b[0;32min\u001b[0m \u001b[0max\u001b[0m\u001b[0;34m:\u001b[0m\u001b[0;34m\u001b[0m\u001b[0m\n\u001b[0;32m-> 1395\u001b[0;31m                     \u001b[0merror\u001b[0m\u001b[0;34m(\u001b[0m\u001b[0;34m)\u001b[0m\u001b[0;34m\u001b[0m\u001b[0m\n\u001b[0m\u001b[1;32m   1396\u001b[0m             \u001b[0;32mexcept\u001b[0m \u001b[0mTypeError\u001b[0m \u001b[0;32mas\u001b[0m \u001b[0me\u001b[0m\u001b[0;34m:\u001b[0m\u001b[0;34m\u001b[0m\u001b[0m\n",
      "\u001b[0;32m/work/r04b43015/anaconda3/lib/python3.5/site-packages/pandas/core/indexing.py\u001b[0m in \u001b[0;36merror\u001b[0;34m()\u001b[0m\n\u001b[1;32m   1389\u001b[0m                 raise KeyError(\"the label [%s] is not in the [%s]\" %\n\u001b[0;32m-> 1390\u001b[0;31m                                (key, self.obj._get_axis_name(axis)))\n\u001b[0m\u001b[1;32m   1391\u001b[0m \u001b[0;34m\u001b[0m\u001b[0m\n",
      "\u001b[0;31mKeyError\u001b[0m: \"the label [['116', '117', '100']] is not in the [index]\"",
      "\nDuring handling of the above exception, another exception occurred:\n",
      "\u001b[0;31mKeyError\u001b[0m                                  Traceback (most recent call last)",
      "\u001b[0;32m<ipython-input-32-885f2fed9d2d>\u001b[0m in \u001b[0;36m<module>\u001b[0;34m()\u001b[0m\n\u001b[0;32m----> 1\u001b[0;31m \u001b[0mfdf\u001b[0m\u001b[0;34m.\u001b[0m\u001b[0mloc\u001b[0m\u001b[0;34m[\u001b[0m\u001b[0;34m'{}'\u001b[0m\u001b[0;34m.\u001b[0m\u001b[0mformat\u001b[0m\u001b[0;34m(\u001b[0m\u001b[0mgroups\u001b[0m\u001b[0;34m)\u001b[0m\u001b[0;34m]\u001b[0m\u001b[0;34m.\u001b[0m\u001b[0mloc\u001b[0m\u001b[0;34m[\u001b[0m\u001b[0;34m'CH1'\u001b[0m\u001b[0;34m]\u001b[0m\u001b[0;34m.\u001b[0m\u001b[0mloc\u001b[0m\u001b[0;34m[\u001b[0m\u001b[0;34m'mean'\u001b[0m\u001b[0;34m,\u001b[0m \u001b[0;34m'PS'\u001b[0m\u001b[0;34m]\u001b[0m\u001b[0;34m\u001b[0m\u001b[0m\n\u001b[0m",
      "\u001b[0;32m/work/r04b43015/anaconda3/lib/python3.5/site-packages/pandas/core/indexing.py\u001b[0m in \u001b[0;36m__getitem__\u001b[0;34m(self, key)\u001b[0m\n\u001b[1;32m   1294\u001b[0m             \u001b[0;32mreturn\u001b[0m \u001b[0mself\u001b[0m\u001b[0;34m.\u001b[0m\u001b[0m_getitem_tuple\u001b[0m\u001b[0;34m(\u001b[0m\u001b[0mkey\u001b[0m\u001b[0;34m)\u001b[0m\u001b[0;34m\u001b[0m\u001b[0m\n\u001b[1;32m   1295\u001b[0m         \u001b[0;32melse\u001b[0m\u001b[0;34m:\u001b[0m\u001b[0;34m\u001b[0m\u001b[0m\n\u001b[0;32m-> 1296\u001b[0;31m             \u001b[0;32mreturn\u001b[0m \u001b[0mself\u001b[0m\u001b[0;34m.\u001b[0m\u001b[0m_getitem_axis\u001b[0m\u001b[0;34m(\u001b[0m\u001b[0mkey\u001b[0m\u001b[0;34m,\u001b[0m \u001b[0maxis\u001b[0m\u001b[0;34m=\u001b[0m\u001b[0;36m0\u001b[0m\u001b[0;34m)\u001b[0m\u001b[0;34m\u001b[0m\u001b[0m\n\u001b[0m\u001b[1;32m   1297\u001b[0m \u001b[0;34m\u001b[0m\u001b[0m\n\u001b[1;32m   1298\u001b[0m     \u001b[0;32mdef\u001b[0m \u001b[0m_getitem_axis\u001b[0m\u001b[0;34m(\u001b[0m\u001b[0mself\u001b[0m\u001b[0;34m,\u001b[0m \u001b[0mkey\u001b[0m\u001b[0;34m,\u001b[0m \u001b[0maxis\u001b[0m\u001b[0;34m=\u001b[0m\u001b[0;36m0\u001b[0m\u001b[0;34m)\u001b[0m\u001b[0;34m:\u001b[0m\u001b[0;34m\u001b[0m\u001b[0m\n",
      "\u001b[0;32m/work/r04b43015/anaconda3/lib/python3.5/site-packages/pandas/core/indexing.py\u001b[0m in \u001b[0;36m_getitem_axis\u001b[0;34m(self, key, axis)\u001b[0m\n\u001b[1;32m   1464\u001b[0m \u001b[0;34m\u001b[0m\u001b[0m\n\u001b[1;32m   1465\u001b[0m         \u001b[0;31m# fall thru to straight lookup\u001b[0m\u001b[0;34m\u001b[0m\u001b[0;34m\u001b[0m\u001b[0m\n\u001b[0;32m-> 1466\u001b[0;31m         \u001b[0mself\u001b[0m\u001b[0;34m.\u001b[0m\u001b[0m_has_valid_type\u001b[0m\u001b[0;34m(\u001b[0m\u001b[0mkey\u001b[0m\u001b[0;34m,\u001b[0m \u001b[0maxis\u001b[0m\u001b[0;34m)\u001b[0m\u001b[0;34m\u001b[0m\u001b[0m\n\u001b[0m\u001b[1;32m   1467\u001b[0m         \u001b[0;32mreturn\u001b[0m \u001b[0mself\u001b[0m\u001b[0;34m.\u001b[0m\u001b[0m_get_label\u001b[0m\u001b[0;34m(\u001b[0m\u001b[0mkey\u001b[0m\u001b[0;34m,\u001b[0m \u001b[0maxis\u001b[0m\u001b[0;34m=\u001b[0m\u001b[0maxis\u001b[0m\u001b[0;34m)\u001b[0m\u001b[0;34m\u001b[0m\u001b[0m\n\u001b[1;32m   1468\u001b[0m \u001b[0;34m\u001b[0m\u001b[0m\n",
      "\u001b[0;32m/work/r04b43015/anaconda3/lib/python3.5/site-packages/pandas/core/indexing.py\u001b[0m in \u001b[0;36m_has_valid_type\u001b[0;34m(self, key, axis)\u001b[0m\n\u001b[1;32m   1401\u001b[0m                 \u001b[0;32mraise\u001b[0m\u001b[0;34m\u001b[0m\u001b[0m\n\u001b[1;32m   1402\u001b[0m             \u001b[0;32mexcept\u001b[0m\u001b[0;34m:\u001b[0m\u001b[0;34m\u001b[0m\u001b[0m\n\u001b[0;32m-> 1403\u001b[0;31m                 \u001b[0merror\u001b[0m\u001b[0;34m(\u001b[0m\u001b[0;34m)\u001b[0m\u001b[0;34m\u001b[0m\u001b[0m\n\u001b[0m\u001b[1;32m   1404\u001b[0m \u001b[0;34m\u001b[0m\u001b[0m\n\u001b[1;32m   1405\u001b[0m         \u001b[0;32mreturn\u001b[0m \u001b[0;32mTrue\u001b[0m\u001b[0;34m\u001b[0m\u001b[0m\n",
      "\u001b[0;32m/work/r04b43015/anaconda3/lib/python3.5/site-packages/pandas/core/indexing.py\u001b[0m in \u001b[0;36merror\u001b[0;34m()\u001b[0m\n\u001b[1;32m   1388\u001b[0m                                     \"key\")\n\u001b[1;32m   1389\u001b[0m                 raise KeyError(\"the label [%s] is not in the [%s]\" %\n\u001b[0;32m-> 1390\u001b[0;31m                                (key, self.obj._get_axis_name(axis)))\n\u001b[0m\u001b[1;32m   1391\u001b[0m \u001b[0;34m\u001b[0m\u001b[0m\n\u001b[1;32m   1392\u001b[0m             \u001b[0;32mtry\u001b[0m\u001b[0;34m:\u001b[0m\u001b[0;34m\u001b[0m\u001b[0m\n",
      "\u001b[0;31mKeyError\u001b[0m: \"the label [['116', '117', '100']] is not in the [index]\""
     ]
    }
   ],
   "source": [
    "fdf.loc['{}'.format(groups)].loc['CH1'].loc['mean', 'PS']"
   ]
  },
  {
   "cell_type": "code",
   "execution_count": 45,
   "metadata": {},
   "outputs": [
    {
     "ename": "IndexError",
     "evalue": "axis 1 out of bounds [0, 1)",
     "output_type": "error",
     "traceback": [
      "\u001b[0;31m---------------------------------------------------------------------------\u001b[0m",
      "\u001b[0;31mIndexError\u001b[0m                                Traceback (most recent call last)",
      "\u001b[0;32m<ipython-input-45-98722f160e9c>\u001b[0m in \u001b[0;36m<module>\u001b[0;34m()\u001b[0m\n\u001b[1;32m      4\u001b[0m \u001b[0marr3\u001b[0m \u001b[0;34m=\u001b[0m \u001b[0mnp\u001b[0m\u001b[0;34m.\u001b[0m\u001b[0marray\u001b[0m\u001b[0;34m(\u001b[0m\u001b[0;34m[\u001b[0m\u001b[0;36m7\u001b[0m\u001b[0;34m,\u001b[0m\u001b[0;36m4\u001b[0m\u001b[0;34m,\u001b[0m\u001b[0;36m3\u001b[0m\u001b[0;34m,\u001b[0m\u001b[0;36m9\u001b[0m\u001b[0;34m]\u001b[0m\u001b[0;34m)\u001b[0m\u001b[0;34m\u001b[0m\u001b[0m\n\u001b[1;32m      5\u001b[0m \u001b[0mx\u001b[0m \u001b[0;34m=\u001b[0m \u001b[0mnp\u001b[0m\u001b[0;34m.\u001b[0m\u001b[0mconcatenate\u001b[0m\u001b[0;34m(\u001b[0m\u001b[0;34m(\u001b[0m\u001b[0mx\u001b[0m\u001b[0;34m,\u001b[0m \u001b[0marr1\u001b[0m\u001b[0;34m)\u001b[0m\u001b[0;34m,\u001b[0m \u001b[0maxis\u001b[0m\u001b[0;34m=\u001b[0m\u001b[0;32mNone\u001b[0m\u001b[0;34m)\u001b[0m\u001b[0;34m\u001b[0m\u001b[0m\n\u001b[0;32m----> 6\u001b[0;31m \u001b[0mx\u001b[0m \u001b[0;34m=\u001b[0m \u001b[0mnp\u001b[0m\u001b[0;34m.\u001b[0m\u001b[0mconcatenate\u001b[0m\u001b[0;34m(\u001b[0m\u001b[0;34m(\u001b[0m\u001b[0mx\u001b[0m\u001b[0;34m,\u001b[0m \u001b[0marr2\u001b[0m\u001b[0;34m)\u001b[0m\u001b[0;34m,\u001b[0m \u001b[0maxis\u001b[0m\u001b[0;34m=\u001b[0m\u001b[0;36m1\u001b[0m\u001b[0;34m)\u001b[0m\u001b[0;34m\u001b[0m\u001b[0m\n\u001b[0m\u001b[1;32m      7\u001b[0m \u001b[0mx\u001b[0m \u001b[0;34m=\u001b[0m \u001b[0mnp\u001b[0m\u001b[0;34m.\u001b[0m\u001b[0mconcatenate\u001b[0m\u001b[0;34m(\u001b[0m\u001b[0;34m(\u001b[0m\u001b[0mx\u001b[0m\u001b[0;34m,\u001b[0m \u001b[0marr3\u001b[0m\u001b[0;34m)\u001b[0m\u001b[0;34m,\u001b[0m \u001b[0maxis\u001b[0m\u001b[0;34m=\u001b[0m\u001b[0;36m1\u001b[0m\u001b[0;34m)\u001b[0m\u001b[0;34m\u001b[0m\u001b[0m\n\u001b[1;32m      8\u001b[0m \u001b[0mprint\u001b[0m\u001b[0;34m(\u001b[0m\u001b[0mx\u001b[0m\u001b[0;34m)\u001b[0m\u001b[0;34m\u001b[0m\u001b[0m\n",
      "\u001b[0;31mIndexError\u001b[0m: axis 1 out of bounds [0, 1)"
     ]
    }
   ],
   "source": [
    "x = np.array([])\n",
    "arr1 = np.array([1,2,3,6])\n",
    "arr2 = np.array([2,2,8,6])\n",
    "arr3 = np.array([7,4,3,9])\n",
    "x = np.concatenate((x, arr1), axis=None)\n",
    "x = np.concatenate((x, arr2), axis=0)\n",
    "x = np.concatenate((x, arr3), axis=0)\n",
    "print(x)"
   ]
  },
  {
   "cell_type": "code",
   "execution_count": 40,
   "metadata": {},
   "outputs": [
    {
     "name": "stdout",
     "output_type": "stream",
     "text": [
      "(array([1, 2]), array([1, 0]))\n",
      "(3, 2)\n",
      "[[0 0]\n",
      " [0 array([1, 2, 3])]\n",
      " [array([1, 2, 3]) 0]]\n"
     ]
    }
   ],
   "source": [
    "x = np.array([(1,2),(2,3),(3,5)])\n",
    "i=3\n",
    "y=np.nonzero([i==ind for ind in x])\n",
    "z = np.zeros((x.shape[0], x.shape[1]), dtype='O')\n",
    "for a,b in zip(y[0],y[1]):\n",
    "    z[a,b]=np.array([1,2,3])\n",
    "print(y)\n",
    "print(x.shape)\n",
    "print(z)"
   ]
  },
  {
   "cell_type": "code",
   "execution_count": 5,
   "metadata": {},
   "outputs": [
    {
     "name": "stdout",
     "output_type": "stream",
     "text": [
      "[[1, 1, 1, 1], [1, 1, 1, 0], [1, 1, 0, 1], [1, 1, 0, 0], [1, 0, 1, 1], [1, 0, 1, 0], [1, 0, 0, 1], [1, 0, 0, 0], [0, 1, 1, 1], [0, 1, 1, 0], [0, 1, 0, 1], [0, 1, 0, 0], [0, 0, 1, 1], [0, 0, 1, 0], [0, 0, 0, 1], [0, 0, 0, 0]]\n"
     ]
    }
   ],
   "source": [
    "L = [1,0]\n",
    "res = []\n",
    "for i in L:\n",
    "    for ii in L:\n",
    "        for iii in L:\n",
    "            for iv in L:\n",
    "                res.append([i, ii, iii, iv])\n",
    "print(res)"
   ]
  },
  {
   "cell_type": "code",
   "execution_count": 7,
   "metadata": {},
   "outputs": [
    {
     "name": "stdout",
     "output_type": "stream",
     "text": [
      "Answer!! [1, 1, 1, 1] 1 1 0 1\n",
      "Answer!! [1, 1, 1, 0] 1 1 0 1\n",
      "Answer!! [0, 1, 1, 1] 1 1 0 1\n",
      "Answer!! [0, 1, 1, 0] 1 1 0 1\n"
     ]
    }
   ],
   "source": [
    "def A(arr):\n",
    "    a=1\n",
    "    if arr[1]==1:\n",
    "        if arr[2]==0:\n",
    "            a=0\n",
    "    else:\n",
    "        if arr[2]==1:\n",
    "            a=0\n",
    "    return a\n",
    "\n",
    "def B(arr):\n",
    "    if arr[0]==1 or arr[2]==1:\n",
    "        b=1\n",
    "    else:\n",
    "        b=0\n",
    "    return b\n",
    "\n",
    "def C(arr):\n",
    "    if arr[1]==0 and arr[2]==1:\n",
    "        c=1\n",
    "    else:\n",
    "        c=0\n",
    "    return c\n",
    "\n",
    "def D(arr):\n",
    "    if arr[1]==1:\n",
    "        d=1\n",
    "    else:\n",
    "        d=0\n",
    "    return d\n",
    "\n",
    "arrs = res\n",
    "\n",
    "for arr in arrs:\n",
    "    a=A(arr)\n",
    "    b=B(arr)\n",
    "    c=C(arr)\n",
    "    d=D(arr)\n",
    "    if a+b+c+d==3:\n",
    "        print('Answer!!', arr, a, b, c, d)"
   ]
  },
  {
   "cell_type": "code",
   "execution_count": 8,
   "metadata": {},
   "outputs": [
    {
     "name": "stdout",
     "output_type": "stream",
     "text": [
      "3 4\n"
     ]
    }
   ],
   "source": [
    "arrs = [('M', 'Y'), ('F', 'E'), ('M', 'Y'), ('F', 'Y'), ('F', 'E'), ('F', 'E'), ('M', 'Y')]\n",
    "M_num = 0\n",
    "Y_num = 0\n",
    "for arr in arrs:\n",
    "    if arr[0]=='M':\n",
    "        M_num+=1\n",
    "    if arr[1]=='Y':\n",
    "        Y_num+=1\n",
    "print(M_num, Y_num)"
   ]
  },
  {
   "cell_type": "code",
   "execution_count": 17,
   "metadata": {},
   "outputs": [
    {
     "name": "stdout",
     "output_type": "stream",
     "text": [
      "[80, 61, 55, 41, 33, 17, 5]\n"
     ]
    }
   ],
   "source": [
    "input_arr = [41, 33, 17, 80, 61, 5, 55]\n",
    "res_arr = []\n",
    "for _ in range(len(input_arr)):\n",
    "    tmp = 0\n",
    "    j = None\n",
    "    for i, ele in enumerate(input_arr):\n",
    "        if ele > tmp:\n",
    "            tmp = ele\n",
    "            j = i\n",
    "    res_arr.append(tmp)\n",
    "    input_arr[j] = 0\n",
    "print(res_arr)"
   ]
  },
  {
   "cell_type": "code",
   "execution_count": 29,
   "metadata": {},
   "outputs": [
    {
     "name": "stdout",
     "output_type": "stream",
     "text": [
      "[1, 2, 3]\n",
      "[1, 2, 3]\n",
      "[1, 2, 3]\n",
      "[1, 2, 3]\n",
      "[1, 2, 3]\n",
      "[1, 2, 3]\n",
      "[1, 2, 3]\n",
      "[1, 2, 3]\n",
      "[1, 2, 3]\n",
      "[]\n"
     ]
    }
   ],
   "source": [
    "L = [1,2,3]\n",
    "size = 3\n",
    "res = []\n",
    "\n",
    "for _ in range(size**2):\n",
    "    used = [1 for _ in range(size)]\n",
    "    tmp = []\n",
    "    for ind in range(size):\n",
    "        if used[ind]==1:\n",
    "            used[ind] = 0\n",
    "            tmp.append(L[ind])\n",
    "    print(tmp)\n",
    "\n",
    "print(res)"
   ]
  },
  {
   "cell_type": "code",
   "execution_count": 1,
   "metadata": {},
   "outputs": [
    {
     "name": "stdout",
     "output_type": "stream",
     "text": [
      "[ 0.  0.  0.  0.  0.]\n",
      "[ 1.  1.  1.  1.  1.]\n",
      "(array([0, 2, 3, 5]),)\n"
     ]
    }
   ],
   "source": [
    "import numpy as np\n",
    "print(np.zeros(5))\n",
    "print(np.ones(5))\n",
    "print(np.nonzero(np.array([1,0,8,2,0,5])))"
   ]
  },
  {
   "cell_type": "code",
   "execution_count": 32,
   "metadata": {},
   "outputs": [
    {
     "name": "stdout",
     "output_type": "stream",
     "text": [
      "{'y': array([1, 2, 3]), 'x': 1, 'z': 'Test'}\n"
     ]
    }
   ],
   "source": [
    "folder = dict(x=1, y=np.array([1,2,3]), z='Test')\n",
    "print(folder)"
   ]
  },
  {
   "cell_type": "code",
   "execution_count": 2,
   "metadata": {},
   "outputs": [
    {
     "data": {
      "text/plain": [
       "array([ 0, -1, -2])"
      ]
     },
     "execution_count": 2,
     "metadata": {},
     "output_type": "execute_result"
    }
   ],
   "source": [
    "arr = np.array([1,2,3])\n",
    "1-arr"
   ]
  },
  {
   "cell_type": "code",
   "execution_count": 30,
   "metadata": {},
   "outputs": [
    {
     "name": "stdout",
     "output_type": "stream",
     "text": [
      "['A', 'C']\n"
     ]
    }
   ],
   "source": [
    "dict_x = {'a':True, 'b':False, 'c':True}\n",
    "\n",
    "def a():\n",
    "    return 'A'\n",
    "\n",
    "def b():\n",
    "    return 'B'\n",
    "\n",
    "def c():\n",
    "    return 'C'\n",
    "\n",
    "arr = [v[0] for v in dict_x.items() if v[1]]\n",
    "method_to_call = [eval(func)() for func in arr]\n",
    "print(method_to_call)"
   ]
  },
  {
   "cell_type": "code",
   "execution_count": 23,
   "metadata": {},
   "outputs": [
    {
     "name": "stdout",
     "output_type": "stream",
     "text": [
      "(3, 2)\n",
      "[2.0, 3.3333333333333335, 5.0]\n"
     ]
    }
   ],
   "source": [
    "data = np.zeros((3, 2), dtype='O')\n",
    "data[0,0]=[1,2,3]\n",
    "data[1,0]=[5,5,0]\n",
    "data[2,0]=[5,8,2]\n",
    "data[0,1]=[0,4,3]\n",
    "data[1,1]=[9,5,9]\n",
    "data[2,1]=[0,8,7]\n",
    "print(data.shape)\n",
    "avg = [np.mean(d) for d in data[:,0]]\n",
    "print(avg)"
   ]
  },
  {
   "cell_type": "code",
   "execution_count": 17,
   "metadata": {},
   "outputs": [
    {
     "name": "stdout",
     "output_type": "stream",
     "text": [
      "(array([0]),)\n"
     ]
    },
    {
     "data": {
      "text/plain": [
       "array([ 1.,  5.])"
      ]
     },
     "execution_count": 17,
     "metadata": {},
     "output_type": "execute_result"
    }
   ],
   "source": [
    "x = np.array([np.nan, 1, 5])\n",
    "g = np.nonzero(np.isnan(x))\n",
    "print(g)\n",
    "x[~np.isnan(x)]"
   ]
  },
  {
   "cell_type": "code",
   "execution_count": 4,
   "metadata": {},
   "outputs": [
    {
     "ename": "ZeroDivisionError",
     "evalue": "division by zero",
     "output_type": "error",
     "traceback": [
      "\u001b[0;31m---------------------------------------------------------------------------\u001b[0m",
      "\u001b[0;31mZeroDivisionError\u001b[0m                         Traceback (most recent call last)",
      "\u001b[0;32m<ipython-input-4-0d3a13f76fea>\u001b[0m in \u001b[0;36m<module>\u001b[0;34m()\u001b[0m\n\u001b[0;32m----> 1\u001b[0;31m \u001b[0mx\u001b[0m \u001b[0;34m=\u001b[0m \u001b[0;36m0\u001b[0m\u001b[0;34m/\u001b[0m\u001b[0;34m(\u001b[0m\u001b[0;36m3\u001b[0m\u001b[0;34m-\u001b[0m\u001b[0;36m3\u001b[0m\u001b[0;34m)\u001b[0m\u001b[0;34m\u001b[0m\u001b[0m\n\u001b[0m\u001b[1;32m      2\u001b[0m \u001b[0my\u001b[0m \u001b[0;34m=\u001b[0m \u001b[0;36m0\u001b[0m\u001b[0;34m/\u001b[0m\u001b[0;36m0\u001b[0m\u001b[0;34m\u001b[0m\u001b[0m\n",
      "\u001b[0;31mZeroDivisionError\u001b[0m: division by zero"
     ]
    }
   ],
   "source": [
    "x = 0/(3-3)\n",
    "y = 0/0"
   ]
  },
  {
   "cell_type": "code",
   "execution_count": 5,
   "metadata": {},
   "outputs": [
    {
     "name": "stdout",
     "output_type": "stream",
     "text": [
      "3\n"
     ]
    },
    {
     "data": {
      "text/plain": [
       "[2, 3, 4]"
      ]
     },
     "execution_count": 5,
     "metadata": {},
     "output_type": "execute_result"
    }
   ],
   "source": [
    "x=[0,1,2,3,4,5,6,7]\n",
    "print(len(x[2:5]))\n",
    "list(range(2,5))"
   ]
  },
  {
   "cell_type": "code",
   "execution_count": null,
   "metadata": {},
   "outputs": [],
   "source": []
  }
 ],
 "metadata": {
  "kernelspec": {
   "display_name": "Python 3",
   "language": "python",
   "name": "python3"
  },
  "language_info": {
   "codemirror_mode": {
    "name": "ipython",
    "version": 3
   },
   "file_extension": ".py",
   "mimetype": "text/x-python",
   "name": "python",
   "nbconvert_exporter": "python",
   "pygments_lexer": "ipython3",
   "version": "3.7.4"
  }
 },
 "nbformat": 4,
 "nbformat_minor": 4
}
